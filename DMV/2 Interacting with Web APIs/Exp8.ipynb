{
 "cells": [
  {
   "cell_type": "markdown",
   "id": "092b271e",
   "metadata": {},
   "source": [
    "### Interacting with Web APIs\n",
    "- Problem Statement: Analyzing Weather Data from OpenWeatherMap API\n",
    "- Dataset: Weather data retrieved from OpenWeatherMap API\n",
    "- Description: The goal is to interact with the OpenWeatherMap API to retrieve weather data\n",
    "for a specific location and perform data modeling and visualization to analyze weather\n",
    "patterns over time.\n",
    "#### Tasks to Perform:\n",
    "1. Register and obtain API key from OpenWeatherMap.\n",
    "2. Interact with the OpenWeatherMap API using the API key to retrieve weather data for\n",
    "a specific location.\n",
    "3. Extract relevant weather attributes such as temperature, humidity, wind speed, and\n",
    "precipitation from the API response.\n",
    "4. Clean and preprocess the retrieved data, handling missing values or inconsistent\n",
    "formats.\n",
    "5. Perform data modeling to analyze weather patterns, such as calculating average\n",
    "temperature, maximum/minimum values, or trends over time.\n",
    "6. Visualize the weather data using appropriate plots, such as line charts, bar plots, or\n",
    "scatter plots, to represent temperature changes, precipitation levels, or wind speed\n",
    "variations.\n",
    "7. Apply data aggregation techniques to summarize weather statistics by specific time\n",
    "periods (e.g., daily, monthly, seasonal).\n",
    "8. Incorporate geographical information, if available, to create maps or geospatial\n",
    "visualizations representing weather patterns across different locations.\n",
    "9. Explore and visualize relationships between weather attributes, such as temperature\n",
    "and humidity, using correlation plots or heatmaps."
   ]
  },
  {
   "cell_type": "markdown",
   "id": "05f1ba25",
   "metadata": {},
   "source": [
    "### Exam specific\n",
    "1. The goal is to interact with the OpenWeatherMap API to retrieve weather data\n",
    "for a specific location and perform data modeling and visualization to analyze weather\n",
    "patterns over time.\n",
    "2. Perform data modeling to analyze weather patterns, such as calculating average\n",
    "temperature, maximum/minimum values, or trends over time.\n",
    "3. Explore and visualize relationships between weather attributes, such as temperature\n",
    "and humidity, using correlation plots or heatmaps."
   ]
  },
  {
   "cell_type": "code",
   "execution_count": 3,
   "id": "734a37e9",
   "metadata": {},
   "outputs": [],
   "source": [
    "# Import necessary libraries\n",
    "import requests\n",
    "import pandas as pd\n",
    "import matplotlib.pyplot as plt\n",
    "import seaborn as sns"
   ]
  },
  {
   "cell_type": "code",
   "execution_count": 4,
   "id": "caad0df8",
   "metadata": {},
   "outputs": [],
   "source": [
    "api_key = '0dc88b5b1784295d30ce08c499e6811f'\n",
    "city_name = 'Pune'\n",
    "api_url = f\"http://api.openweathermap.org/data/2.5/weather?q={city_name}&appid={api_key}\""
   ]
  },
  {
   "cell_type": "code",
   "execution_count": 5,
   "id": "bcf1899b",
   "metadata": {},
   "outputs": [],
   "source": [
    "# Make an API call and store the response\n",
    "response = requests.get(api_url)\n",
    "weather_data = response.json()"
   ]
  },
  {
   "cell_type": "code",
   "execution_count": 6,
   "id": "335f9c43",
   "metadata": {},
   "outputs": [],
   "source": [
    "# Extract relevant data (example for temperature, humidity, wind speed, and precipitation)\n",
    "# Note: Actual keys like 'temp', 'humidity' might vary based on the API's JSON response structure\n",
    "temperature = weather_data['main']['temp']\n",
    "humidity = weather_data['main']['humidity']\n",
    "wind_speed = weather_data['wind']['speed']\n",
    "precipitation = weather_data.get('rain', {}).get('1h', 0)  # Assuming rain data is in 'rain'->'1h'"
   ]
  },
  {
   "cell_type": "code",
   "execution_count": 8,
   "id": "af9de35e",
   "metadata": {},
   "outputs": [
    {
     "data": {
      "text/html": [
       "<div>\n",
       "<style scoped>\n",
       "    .dataframe tbody tr th:only-of-type {\n",
       "        vertical-align: middle;\n",
       "    }\n",
       "\n",
       "    .dataframe tbody tr th {\n",
       "        vertical-align: top;\n",
       "    }\n",
       "\n",
       "    .dataframe thead th {\n",
       "        text-align: right;\n",
       "    }\n",
       "</style>\n",
       "<table border=\"1\" class=\"dataframe\">\n",
       "  <thead>\n",
       "    <tr style=\"text-align: right;\">\n",
       "      <th></th>\n",
       "      <th>temperature</th>\n",
       "      <th>humidity</th>\n",
       "      <th>wind_speed</th>\n",
       "      <th>precipitation</th>\n",
       "    </tr>\n",
       "  </thead>\n",
       "  <tbody>\n",
       "    <tr>\n",
       "      <th>0</th>\n",
       "      <td>303.8</td>\n",
       "      <td>36</td>\n",
       "      <td>2.7</td>\n",
       "      <td>0</td>\n",
       "    </tr>\n",
       "  </tbody>\n",
       "</table>\n",
       "</div>"
      ],
      "text/plain": [
       "   temperature  humidity  wind_speed  precipitation\n",
       "0        303.8        36         2.7              0"
      ]
     },
     "execution_count": 8,
     "metadata": {},
     "output_type": "execute_result"
    }
   ],
   "source": [
    "# Create a DataFrame with the extracted data (step 4)\n",
    "weather_df = pd.DataFrame({\n",
    "    'temperature': [temperature],\n",
    "    'humidity': [humidity],\n",
    "    'wind_speed': [wind_speed],\n",
    "    'precipitation': [precipitation]\n",
    "})\n",
    "\n",
    "weather_df.head()"
   ]
  },
  {
   "cell_type": "code",
   "execution_count": null,
   "id": "d2bc6d85",
   "metadata": {},
   "outputs": [],
   "source": []
  },
  {
   "cell_type": "code",
   "execution_count": null,
   "id": "f2946531",
   "metadata": {},
   "outputs": [],
   "source": []
  },
  {
   "cell_type": "code",
   "execution_count": null,
   "id": "7c96bb5e",
   "metadata": {},
   "outputs": [],
   "source": []
  },
  {
   "cell_type": "code",
   "execution_count": null,
   "id": "499ccbaf",
   "metadata": {},
   "outputs": [],
   "source": []
  },
  {
   "cell_type": "code",
   "execution_count": null,
   "id": "a68d0457",
   "metadata": {},
   "outputs": [],
   "source": []
  },
  {
   "cell_type": "code",
   "execution_count": 4,
   "id": "fb2572e6",
   "metadata": {},
   "outputs": [],
   "source": [
    "def get_weather_data(city_name):\n",
    "    params = {\n",
    "        'q': city_name,\n",
    "        'appid': api_key,\n",
    "        'units': 'metric'  # You can change units to 'imperial' for Fahrenheit.\n",
    "    }\n",
    "    response = requests.get(api_url, params=params)\n",
    "    \n",
    "    if response.status_code == 200:\n",
    "        data = response.json()\n",
    "        return data\n",
    "    else:\n",
    "        print(\"Failed to retrieve data.\")\n",
    "        return None"
   ]
  },
  {
   "cell_type": "code",
   "execution_count": 5,
   "id": "4be5eb21",
   "metadata": {},
   "outputs": [],
   "source": [
    "city_name = 'New Delhi'\n",
    "weather_data = get_weather_data(city_name)\n",
    "\n",
    "if weather_data:\n",
    "    df = pd.DataFrame({\n",
    "        'Temperature (°C)': [weather_data['main']['temp']],\n",
    "        'Humidity (%)': [weather_data['main']['humidity']],\n",
    "        'Wind Speed (m/s)': [weather_data['wind']['speed']],\n",
    "        'Precipitation (mm)': [weather_data.get('rain', {'1h': 0}).get('1h')]\n",
    "    })"
   ]
  },
  {
   "cell_type": "code",
   "execution_count": 6,
   "id": "de15d929",
   "metadata": {},
   "outputs": [
    {
     "data": {
      "text/html": [
       "<div>\n",
       "<style scoped>\n",
       "    .dataframe tbody tr th:only-of-type {\n",
       "        vertical-align: middle;\n",
       "    }\n",
       "\n",
       "    .dataframe tbody tr th {\n",
       "        vertical-align: top;\n",
       "    }\n",
       "\n",
       "    .dataframe thead th {\n",
       "        text-align: right;\n",
       "    }\n",
       "</style>\n",
       "<table border=\"1\" class=\"dataframe\">\n",
       "  <thead>\n",
       "    <tr style=\"text-align: right;\">\n",
       "      <th></th>\n",
       "      <th>Temperature (°C)</th>\n",
       "      <th>Humidity (%)</th>\n",
       "      <th>Wind Speed (m/s)</th>\n",
       "      <th>Precipitation (mm)</th>\n",
       "    </tr>\n",
       "  </thead>\n",
       "  <tbody>\n",
       "    <tr>\n",
       "      <th>0</th>\n",
       "      <td>22.09</td>\n",
       "      <td>78</td>\n",
       "      <td>1.54</td>\n",
       "      <td>0</td>\n",
       "    </tr>\n",
       "  </tbody>\n",
       "</table>\n",
       "</div>"
      ],
      "text/plain": [
       "   Temperature (°C)  Humidity (%)  Wind Speed (m/s)  Precipitation (mm)\n",
       "0             22.09            78              1.54                   0"
      ]
     },
     "execution_count": 6,
     "metadata": {},
     "output_type": "execute_result"
    }
   ],
   "source": [
    "df.head()"
   ]
  },
  {
   "cell_type": "code",
   "execution_count": null,
   "id": "22894993",
   "metadata": {},
   "outputs": [],
   "source": []
  }
 ],
 "metadata": {
  "kernelspec": {
   "display_name": "Python 3 (ipykernel)",
   "language": "python",
   "name": "python3"
  },
  "language_info": {
   "codemirror_mode": {
    "name": "ipython",
    "version": 3
   },
   "file_extension": ".py",
   "mimetype": "text/x-python",
   "name": "python",
   "nbconvert_exporter": "python",
   "pygments_lexer": "ipython3",
   "version": "3.9.12"
  }
 },
 "nbformat": 4,
 "nbformat_minor": 5
}
